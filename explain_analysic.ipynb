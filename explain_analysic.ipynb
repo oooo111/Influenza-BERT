{
 "cells": [
  {
   "cell_type": "code",
   "execution_count": null,
   "id": "7640aa3e",
   "metadata": {},
   "outputs": [
    {
     "name": "stdout",
     "output_type": "stream",
     "text": [
      "使用设备: cuda\n",
      "加载模型和tokenizer...\n"
     ]
    },
    {
     "name": "stderr",
     "output_type": "stream",
     "text": [
      "/root/.cache/huggingface/modules/transformers_modules/checkpoint-37400/bert_layers.py:126: UserWarning: Unable to import Triton; defaulting MosaicBERT attention implementation to pytorch (this will reduce throughput when using this model).\n",
      "  warnings.warn(\n"
     ]
    },
    {
     "name": "stdout",
     "output_type": "stream",
     "text": [
      "加载测试数据...\n",
      "加载了 5610 条序列\n",
      "标签文件包含 5610 条记录\n",
      "成功匹配了 5610 条序列的标签\n",
      "随机选择亚型 H5N1 的序列: KY614903.1\n",
      "随机选择亚型 H5N1 的序列: KY614875.1\n",
      "随机选择亚型 H5N1 的序列: MF116327.1\n",
      "随机选择亚型 H5N1 的序列: KY614823.1\n",
      "随机选择亚型 H5N1 的序列: KY614942.1\n",
      "随机选择亚型 H5N1 的序列: KY614926.1\n",
      "随机选择亚型 H5N1 的序列: KY614898.1\n",
      "随机选择亚型 H5N1 的序列: KY614970.1\n",
      "随机选择亚型 H9N2 的序列: MF164904.1\n",
      "随机选择亚型 H9N2 的序列: KY785875.1\n",
      "随机选择亚型 H9N2 的序列: KY872759.1\n",
      "随机选择亚型 H9N2 的序列: KY983113.1\n",
      "随机选择亚型 H9N2 的序列: MF172927.1\n",
      "随机选择亚型 H9N2 的序列: KY785757.1\n",
      "随机选择亚型 H9N2 的序列: KY785873.1\n",
      "随机选择亚型 H9N2 的序列: MF319196.1\n",
      "随机选择亚型 H7N9 的序列: MF357791.1\n",
      "随机选择亚型 H7N9 的序列: KP418097.1\n",
      "随机选择亚型 H7N9 的序列: MF357746.1\n",
      "随机选择亚型 H7N9 的序列: MF357718.1\n",
      "随机选择亚型 H7N9 的序列: MF510873.1\n",
      "随机选择亚型 H7N9 的序列: MF510864.1\n",
      "随机选择亚型 H7N9 的序列: MF357786.1\n",
      "随机选择亚型 H7N9 的序列: MF357720.1\n",
      "随机选择亚型 H5N8 的序列: KY576113.1\n",
      "随机选择亚型 H5N8 的序列: KY828814.1\n",
      "随机选择亚型 H5N8 的序列: MF073917.1\n",
      "随机选择亚型 H5N8 的序列: MF073915.1\n",
      "随机选择亚型 H5N8 的序列: MF037850.1\n",
      "随机选择亚型 H5N8 的序列: MF073910.1\n",
      "随机选择亚型 H5N8 的序列: MF073908.1\n",
      "随机选择亚型 H5N8 的序列: KY576103.1\n",
      "随机选择亚型 H3N2 的序列: CY234179.1\n",
      "随机选择亚型 H3N2 的序列: CY230784.1\n",
      "随机选择亚型 H3N2 的序列: KU590053.1\n",
      "随机选择亚型 H3N2 的序列: KT839992.1\n",
      "随机选择亚型 H3N2 的序列: CY228902.1\n",
      "随机选择亚型 H3N2 的序列: CY230927.1\n",
      "随机选择亚型 H3N2 的序列: KC883406.1\n",
      "随机选择亚型 H3N2 的序列: KT837333.1\n",
      "随机选择亚型 H13N6 的序列: MF147670.1\n",
      "随机选择亚型 H13N6 的序列: MF147162.1\n",
      "随机选择亚型 H13N6 的序列: MF148142.1\n",
      "随机选择亚型 H13N6 的序列: MF147063.1\n",
      "随机选择亚型 H13N6 的序列: MF146699.1\n",
      "随机选择亚型 H13N6 的序列: MF146211.1\n",
      "随机选择亚型 H13N6 的序列: MF147617.1\n",
      "随机选择亚型 H13N6 的序列: MF148039.1\n",
      "随机选择亚型 H13N8 的序列: MF147764.1\n",
      "随机选择亚型 H13N8 的序列: MF146050.1\n",
      "随机选择亚型 H13N8 的序列: MF148077.1\n",
      "随机选择亚型 H13N8 的序列: MF146365.1\n",
      "随机选择亚型 H13N8 的序列: MF147732.1\n",
      "随机选择亚型 H13N8 的序列: MF147905.1\n",
      "随机选择亚型 H13N8 的序列: MF146733.1\n",
      "随机选择亚型 H13N8 的序列: MF145996.1\n",
      "\n",
      "开始特征重要性分析...\n",
      "\n",
      "分析序列 1/56: KY614903.1 (H5N1)\n"
     ]
    },
    {
     "name": "stderr",
     "output_type": "stream",
     "text": [
      "分析窗口重要性: 100%|██████████| 2229/2229 [00:22<00:00, 100.10it/s]\n"
     ]
    },
    {
     "name": "stdout",
     "output_type": "stream",
     "text": [
      "\n",
      "分析序列 2/56: KY614875.1 (H5N1)\n"
     ]
    },
    {
     "name": "stderr",
     "output_type": "stream",
     "text": [
      "分析窗口重要性: 100%|██████████| 1023/1023 [00:09<00:00, 104.49it/s]\n"
     ]
    },
    {
     "name": "stdout",
     "output_type": "stream",
     "text": [
      "\n",
      "分析序列 3/56: MF116327.1 (H5N1)\n"
     ]
    },
    {
     "name": "stderr",
     "output_type": "stream",
     "text": [
      "分析窗口重要性: 100%|██████████| 1561/1561 [00:15<00:00, 104.06it/s]\n"
     ]
    },
    {
     "name": "stdout",
     "output_type": "stream",
     "text": [
      "\n",
      "分析序列 4/56: KY614823.1 (H5N1)\n"
     ]
    },
    {
     "name": "stderr",
     "output_type": "stream",
     "text": [
      "分析窗口重要性: 100%|██████████| 2016/2016 [00:19<00:00, 101.27it/s]\n"
     ]
    },
    {
     "name": "stdout",
     "output_type": "stream",
     "text": [
      "\n",
      "分析序列 5/56: KY614942.1 (H5N1)\n"
     ]
    },
    {
     "name": "stderr",
     "output_type": "stream",
     "text": [
      "分析窗口重要性: 100%|██████████| 2011/2011 [00:19<00:00, 101.20it/s]\n"
     ]
    },
    {
     "name": "stdout",
     "output_type": "stream",
     "text": [
      "\n",
      "分析序列 6/56: KY614926.1 (H5N1)\n"
     ]
    },
    {
     "name": "stderr",
     "output_type": "stream",
     "text": [
      "分析窗口重要性: 100%|██████████| 1083/1083 [00:10<00:00, 104.92it/s]\n"
     ]
    },
    {
     "name": "stdout",
     "output_type": "stream",
     "text": [
      "\n",
      "分析序列 7/56: KY614898.1 (H5N1)\n"
     ]
    },
    {
     "name": "stderr",
     "output_type": "stream",
     "text": [
      "分析窗口重要性: 100%|██████████| 1383/1383 [00:13<00:00, 104.66it/s]\n"
     ]
    },
    {
     "name": "stdout",
     "output_type": "stream",
     "text": [
      "\n",
      "分析序列 8/56: KY614970.1 (H5N1)\n"
     ]
    },
    {
     "name": "stderr",
     "output_type": "stream",
     "text": [
      "分析窗口重要性: 100%|██████████| 1023/1023 [00:09<00:00, 105.84it/s]\n"
     ]
    },
    {
     "name": "stdout",
     "output_type": "stream",
     "text": [
      "\n",
      "分析序列 9/56: MF164904.1 (H9N2)\n"
     ]
    },
    {
     "name": "stderr",
     "output_type": "stream",
     "text": [
      "分析窗口重要性: 100%|██████████| 545/545 [00:05<00:00, 106.86it/s]\n"
     ]
    },
    {
     "name": "stdout",
     "output_type": "stream",
     "text": [
      "\n",
      "分析序列 10/56: KY785875.1 (H9N2)\n"
     ]
    },
    {
     "name": "stderr",
     "output_type": "stream",
     "text": [
      "分析窗口重要性: 100%|██████████| 1341/1341 [00:12<00:00, 104.26it/s]\n"
     ]
    },
    {
     "name": "stdout",
     "output_type": "stream",
     "text": [
      "\n",
      "分析序列 11/56: KY872759.1 (H9N2)\n"
     ]
    },
    {
     "name": "stderr",
     "output_type": "stream",
     "text": [
      "分析窗口重要性: 100%|██████████| 438/438 [00:04<00:00, 106.46it/s]\n"
     ]
    },
    {
     "name": "stdout",
     "output_type": "stream",
     "text": [
      "\n",
      "分析序列 12/56: KY983113.1 (H9N2)\n"
     ]
    },
    {
     "name": "stderr",
     "output_type": "stream",
     "text": [
      "分析窗口重要性: 100%|██████████| 1561/1561 [00:15<00:00, 102.95it/s]\n"
     ]
    },
    {
     "name": "stdout",
     "output_type": "stream",
     "text": [
      "\n",
      "分析序列 13/56: MF172927.1 (H9N2)\n"
     ]
    },
    {
     "name": "stderr",
     "output_type": "stream",
     "text": [
      "分析窗口重要性: 100%|██████████| 2121/2121 [00:21<00:00, 100.52it/s]\n"
     ]
    },
    {
     "name": "stdout",
     "output_type": "stream",
     "text": [
      "\n",
      "分析序列 14/56: KY785757.1 (H9N2)\n"
     ]
    },
    {
     "name": "stderr",
     "output_type": "stream",
     "text": [
      "分析窗口重要性: 100%|██████████| 2258/2258 [00:22<00:00, 100.13it/s]\n"
     ]
    },
    {
     "name": "stdout",
     "output_type": "stream",
     "text": [
      "\n",
      "分析序列 15/56: KY785873.1 (H9N2)\n"
     ]
    },
    {
     "name": "stderr",
     "output_type": "stream",
     "text": [
      "分析窗口重要性: 100%|██████████| 838/838 [00:07<00:00, 105.91it/s]\n"
     ]
    },
    {
     "name": "stdout",
     "output_type": "stream",
     "text": [
      "\n",
      "分析序列 16/56: MF319196.1 (H9N2)\n"
     ]
    },
    {
     "name": "stderr",
     "output_type": "stream",
     "text": [
      "分析窗口重要性: 100%|██████████| 425/425 [00:03<00:00, 107.07it/s]\n"
     ]
    },
    {
     "name": "stdout",
     "output_type": "stream",
     "text": [
      "\n",
      "分析序列 17/56: MF357791.1 (H7N9)\n"
     ]
    },
    {
     "name": "stderr",
     "output_type": "stream",
     "text": [
      "分析窗口重要性: 100%|██████████| 998/998 [00:09<00:00, 104.75it/s]\n"
     ]
    },
    {
     "name": "stdout",
     "output_type": "stream",
     "text": [
      "\n",
      "分析序列 18/56: KP418097.1 (H7N9)\n"
     ]
    },
    {
     "name": "stderr",
     "output_type": "stream",
     "text": [
      "分析窗口重要性: 100%|██████████| 978/978 [00:09<00:00, 106.10it/s]\n"
     ]
    },
    {
     "name": "stdout",
     "output_type": "stream",
     "text": [
      "\n",
      "分析序列 19/56: MF357746.1 (H7N9)\n"
     ]
    },
    {
     "name": "stderr",
     "output_type": "stream",
     "text": [
      "分析窗口重要性: 100%|██████████| 2312/2312 [00:23<00:00, 99.79it/s] \n"
     ]
    },
    {
     "name": "stdout",
     "output_type": "stream",
     "text": [
      "\n",
      "分析序列 20/56: MF357718.1 (H7N9)\n"
     ]
    },
    {
     "name": "stderr",
     "output_type": "stream",
     "text": [
      "分析窗口重要性: 100%|██████████| 1418/1418 [00:13<00:00, 104.60it/s]\n"
     ]
    },
    {
     "name": "stdout",
     "output_type": "stream",
     "text": [
      "\n",
      "分析序列 21/56: MF510873.1 (H7N9)\n"
     ]
    },
    {
     "name": "stderr",
     "output_type": "stream",
     "text": [
      "分析窗口重要性: 100%|██████████| 1679/1679 [00:16<00:00, 102.74it/s]\n"
     ]
    },
    {
     "name": "stdout",
     "output_type": "stream",
     "text": [
      "\n",
      "分析序列 22/56: MF510864.1 (H7N9)\n"
     ]
    },
    {
     "name": "stderr",
     "output_type": "stream",
     "text": [
      "分析窗口重要性: 100%|██████████| 1679/1679 [00:16<00:00, 101.77it/s]\n"
     ]
    },
    {
     "name": "stdout",
     "output_type": "stream",
     "text": [
      "\n",
      "分析序列 23/56: MF357786.1 (H7N9)\n"
     ]
    },
    {
     "name": "stderr",
     "output_type": "stream",
     "text": [
      "分析窗口重要性: 100%|██████████| 2312/2312 [00:23<00:00, 99.86it/s] \n"
     ]
    },
    {
     "name": "stdout",
     "output_type": "stream",
     "text": [
      "\n",
      "分析序列 24/56: MF357720.1 (H7N9)\n"
     ]
    },
    {
     "name": "stderr",
     "output_type": "stream",
     "text": [
      "分析窗口重要性: 100%|██████████| 861/861 [00:08<00:00, 103.00it/s]\n"
     ]
    },
    {
     "name": "stdout",
     "output_type": "stream",
     "text": [
      "\n",
      "分析序列 25/56: KY576113.1 (H5N8)\n"
     ]
    },
    {
     "name": "stderr",
     "output_type": "stream",
     "text": [
      "分析窗口重要性: 100%|██████████| 2276/2276 [00:22<00:00, 99.65it/s] \n"
     ]
    },
    {
     "name": "stdout",
     "output_type": "stream",
     "text": [
      "\n",
      "分析序列 26/56: KY828814.1 (H5N8)\n"
     ]
    },
    {
     "name": "stderr",
     "output_type": "stream",
     "text": [
      "分析窗口重要性: 100%|██████████| 983/983 [00:09<00:00, 99.26it/s] \n"
     ]
    },
    {
     "name": "stdout",
     "output_type": "stream",
     "text": [
      "\n",
      "分析序列 27/56: MF073917.1 (H5N8)\n"
     ]
    },
    {
     "name": "stderr",
     "output_type": "stream",
     "text": [
      "分析窗口重要性: 100%|██████████| 1741/1741 [00:16<00:00, 102.94it/s]\n"
     ]
    },
    {
     "name": "stdout",
     "output_type": "stream",
     "text": [
      "\n",
      "分析序列 28/56: MF073915.1 (H5N8)\n"
     ]
    },
    {
     "name": "stderr",
     "output_type": "stream",
     "text": [
      "分析窗口重要性: 100%|██████████| 2324/2324 [00:22<00:00, 101.56it/s]\n"
     ]
    },
    {
     "name": "stdout",
     "output_type": "stream",
     "text": [
      "\n",
      "分析序列 29/56: MF037850.1 (H5N8)\n"
     ]
    },
    {
     "name": "stderr",
     "output_type": "stream",
     "text": [
      "分析窗口重要性: 100%|██████████| 2198/2198 [00:21<00:00, 101.16it/s]\n"
     ]
    },
    {
     "name": "stdout",
     "output_type": "stream",
     "text": [
      "\n",
      "分析序列 30/56: MF073910.1 (H5N8)\n"
     ]
    },
    {
     "name": "stderr",
     "output_type": "stream",
     "text": [
      "分析窗口重要性: 100%|██████████| 1554/1554 [00:14<00:00, 104.66it/s]\n"
     ]
    },
    {
     "name": "stdout",
     "output_type": "stream",
     "text": [
      "\n",
      "分析序列 31/56: MF073908.1 (H5N8)\n"
     ]
    },
    {
     "name": "stderr",
     "output_type": "stream",
     "text": [
      "分析窗口重要性: 100%|██████████| 2191/2191 [00:22<00:00, 98.19it/s] \n"
     ]
    },
    {
     "name": "stdout",
     "output_type": "stream",
     "text": [
      "\n",
      "分析序列 32/56: KY576103.1 (H5N8)\n"
     ]
    },
    {
     "name": "stderr",
     "output_type": "stream",
     "text": [
      "分析窗口重要性: 100%|██████████| 2147/2147 [00:21<00:00, 101.00it/s]\n"
     ]
    },
    {
     "name": "stdout",
     "output_type": "stream",
     "text": [
      "\n",
      "分析序列 33/56: CY234179.1 (H3N2)\n"
     ]
    },
    {
     "name": "stderr",
     "output_type": "stream",
     "text": [
      "分析窗口重要性: 100%|██████████| 998/998 [00:09<00:00, 104.24it/s]\n"
     ]
    },
    {
     "name": "stdout",
     "output_type": "stream",
     "text": [
      "\n",
      "分析序列 34/56: CY230784.1 (H3N2)\n"
     ]
    },
    {
     "name": "stderr",
     "output_type": "stream",
     "text": [
      "分析窗口重要性: 100%|██████████| 2312/2312 [00:23<00:00, 99.07it/s] \n"
     ]
    },
    {
     "name": "stdout",
     "output_type": "stream",
     "text": [
      "\n",
      "分析序列 35/56: KU590053.1 (H3N2)\n"
     ]
    },
    {
     "name": "stderr",
     "output_type": "stream",
     "text": [
      "分析窗口重要性: 100%|██████████| 2270/2270 [00:22<00:00, 100.21it/s]\n"
     ]
    },
    {
     "name": "stdout",
     "output_type": "stream",
     "text": [
      "\n",
      "分析序列 36/56: KT839992.1 (H3N2)\n"
     ]
    },
    {
     "name": "stderr",
     "output_type": "stream",
     "text": [
      "分析窗口重要性: 100%|██████████| 978/978 [00:09<00:00, 105.45it/s]\n"
     ]
    },
    {
     "name": "stdout",
     "output_type": "stream",
     "text": [
      "\n",
      "分析序列 37/56: CY228902.1 (H3N2)\n"
     ]
    },
    {
     "name": "stderr",
     "output_type": "stream",
     "text": [
      "分析窗口重要性: 100%|██████████| 1537/1537 [00:14<00:00, 103.27it/s]\n"
     ]
    },
    {
     "name": "stdout",
     "output_type": "stream",
     "text": [
      "\n",
      "分析序列 38/56: CY230927.1 (H3N2)\n"
     ]
    },
    {
     "name": "stderr",
     "output_type": "stream",
     "text": [
      "分析窗口重要性: 100%|██████████| 1438/1438 [00:13<00:00, 104.05it/s]\n"
     ]
    },
    {
     "name": "stdout",
     "output_type": "stream",
     "text": [
      "\n",
      "分析序列 39/56: KC883406.1 (H3N2)\n"
     ]
    },
    {
     "name": "stderr",
     "output_type": "stream",
     "text": [
      "分析窗口重要性: 100%|██████████| 1406/1406 [00:13<00:00, 104.36it/s]\n"
     ]
    },
    {
     "name": "stdout",
     "output_type": "stream",
     "text": [
      "\n",
      "分析序列 40/56: KT837333.1 (H3N2)\n"
     ]
    },
    {
     "name": "stderr",
     "output_type": "stream",
     "text": [
      "分析窗口重要性: 100%|██████████| 1406/1406 [00:13<00:00, 104.54it/s]\n"
     ]
    },
    {
     "name": "stdout",
     "output_type": "stream",
     "text": [
      "\n",
      "分析序列 41/56: MF147670.1 (H13N6)\n"
     ]
    },
    {
     "name": "stderr",
     "output_type": "stream",
     "text": [
      "分析窗口重要性: 100%|██████████| 2337/2337 [00:23<00:00, 98.45it/s]\n"
     ]
    },
    {
     "name": "stdout",
     "output_type": "stream",
     "text": [
      "\n",
      "分析序列 42/56: MF147162.1 (H13N6)\n"
     ]
    },
    {
     "name": "stderr",
     "output_type": "stream",
     "text": [
      "分析窗口重要性: 100%|██████████| 1023/1023 [00:09<00:00, 104.15it/s]\n"
     ]
    },
    {
     "name": "stdout",
     "output_type": "stream",
     "text": [
      "\n",
      "分析序列 43/56: MF148142.1 (H13N6)\n"
     ]
    },
    {
     "name": "stderr",
     "output_type": "stream",
     "text": [
      "分析窗口重要性: 100%|██████████| 886/886 [00:08<00:00, 106.59it/s]\n"
     ]
    },
    {
     "name": "stdout",
     "output_type": "stream",
     "text": [
      "\n",
      "分析序列 44/56: MF147063.1 (H13N6)\n"
     ]
    },
    {
     "name": "stderr",
     "output_type": "stream",
     "text": [
      "分析窗口重要性: 100%|██████████| 2229/2229 [00:21<00:00, 101.36it/s]\n"
     ]
    },
    {
     "name": "stdout",
     "output_type": "stream",
     "text": [
      "\n",
      "分析序列 45/56: MF146699.1 (H13N6)\n"
     ]
    },
    {
     "name": "stderr",
     "output_type": "stream",
     "text": [
      "分析窗口重要性: 100%|██████████| 2337/2337 [00:23<00:00, 98.62it/s]\n"
     ]
    },
    {
     "name": "stdout",
     "output_type": "stream",
     "text": [
      "\n",
      "分析序列 46/56: MF146211.1 (H13N6)\n"
     ]
    },
    {
     "name": "stderr",
     "output_type": "stream",
     "text": [
      "分析窗口重要性: 100%|██████████| 1761/1761 [00:17<00:00, 101.45it/s]\n"
     ]
    },
    {
     "name": "stdout",
     "output_type": "stream",
     "text": [
      "\n",
      "分析序列 47/56: MF147617.1 (H13N6)\n"
     ]
    },
    {
     "name": "stderr",
     "output_type": "stream",
     "text": [
      "分析窗口重要性: 100%|██████████| 886/886 [00:08<00:00, 104.83it/s]\n"
     ]
    },
    {
     "name": "stdout",
     "output_type": "stream",
     "text": [
      "\n",
      "分析序列 48/56: MF148039.1 (H13N6)\n"
     ]
    },
    {
     "name": "stderr",
     "output_type": "stream",
     "text": [
      "分析窗口重要性: 100%|██████████| 1561/1561 [00:15<00:00, 102.28it/s]\n"
     ]
    },
    {
     "name": "stdout",
     "output_type": "stream",
     "text": [
      "\n",
      "分析序列 49/56: MF147764.1 (H13N8)\n"
     ]
    },
    {
     "name": "stderr",
     "output_type": "stream",
     "text": [
      "分析窗口重要性: 100%|██████████| 1561/1561 [00:15<00:00, 102.23it/s]\n"
     ]
    },
    {
     "name": "stdout",
     "output_type": "stream",
     "text": [
      "\n",
      "分析序列 50/56: MF146050.1 (H13N8)\n"
     ]
    },
    {
     "name": "stderr",
     "output_type": "stream",
     "text": [
      "分析窗口重要性: 100%|██████████| 886/886 [00:08<00:00, 105.02it/s]\n"
     ]
    },
    {
     "name": "stdout",
     "output_type": "stream",
     "text": [
      "\n",
      "分析序列 51/56: MF148077.1 (H13N8)\n"
     ]
    },
    {
     "name": "stderr",
     "output_type": "stream",
     "text": [
      "分析窗口重要性: 100%|██████████| 2337/2337 [00:23<00:00, 100.75it/s]\n"
     ]
    },
    {
     "name": "stdout",
     "output_type": "stream",
     "text": [
      "\n",
      "分析序列 52/56: MF146365.1 (H13N8)\n"
     ]
    },
    {
     "name": "stderr",
     "output_type": "stream",
     "text": [
      "分析窗口重要性: 100%|██████████| 1561/1561 [00:14<00:00, 104.18it/s]\n"
     ]
    },
    {
     "name": "stdout",
     "output_type": "stream",
     "text": [
      "\n",
      "分析序列 53/56: MF147732.1 (H13N8)\n"
     ]
    },
    {
     "name": "stderr",
     "output_type": "stream",
     "text": [
      "分析窗口重要性: 100%|██████████| 1023/1023 [00:09<00:00, 105.27it/s]\n"
     ]
    },
    {
     "name": "stdout",
     "output_type": "stream",
     "text": [
      "\n",
      "分析序列 54/56: MF147905.1 (H13N8)\n"
     ]
    },
    {
     "name": "stderr",
     "output_type": "stream",
     "text": [
      "分析窗口重要性: 100%|██████████| 1561/1561 [00:14<00:00, 105.54it/s]\n"
     ]
    },
    {
     "name": "stdout",
     "output_type": "stream",
     "text": [
      "\n",
      "分析序列 55/56: MF146733.1 (H13N8)\n"
     ]
    },
    {
     "name": "stderr",
     "output_type": "stream",
     "text": [
      "分析窗口重要性: 100%|██████████| 886/886 [00:08<00:00, 103.27it/s]\n"
     ]
    },
    {
     "name": "stdout",
     "output_type": "stream",
     "text": [
      "\n",
      "分析序列 56/56: MF145996.1 (H13N8)\n"
     ]
    },
    {
     "name": "stderr",
     "output_type": "stream",
     "text": [
      "分析窗口重要性: 100%|██████████| 1761/1761 [00:17<00:00, 101.52it/s]\n"
     ]
    },
    {
     "name": "stdout",
     "output_type": "stream",
     "text": [
      "已生成汇总报告: ./feature_importance_results_window_test/feature_importance_summary.txt\n",
      "分析完成！\n"
     ]
    }
   ],
   "source": [
    "import os\n",
    "import torch\n",
    "import numpy as np\n",
    "import pandas as pd\n",
    "import matplotlib.pyplot as plt\n",
    "import seaborn as sns\n",
    "from Bio import SeqIO\n",
    "from transformers import AutoTokenizer, AutoModelForSequenceClassification, AutoConfig\n",
    "from tqdm import tqdm\n",
    "\n",
    "\n",
    "plt.rcParams['font.family'] = ['sans-serif']\n",
    "plt.rcParams['font.sans-serif'] = ['DejaVu Sans', 'Arial', 'Microsoft YaHei', 'SimHei']\n",
    "plt.rcParams['font.size'] = 34\n",
    "plt.rcParams['axes.titlesize'] = 34\n",
    "plt.rcParams['axes.labelsize'] = 34\n",
    "plt.rcParams['xtick.labelsize'] = 34\n",
    "plt.rcParams['ytick.labelsize'] = 34\n",
    "plt.rcParams['figure.dpi'] = 800\n",
    "plt.rcParams['savefig.dpi'] = 800\n",
    "\n",
    "\n",
    "\n",
    "def load_data(fasta_file, label_file, existing_label_to_idx=None):\n",
    "    \"\"\"加载序列数据和标签\"\"\"\n",
    "    sequences = []\n",
    "    seq_ids = []\n",
    "    for record in SeqIO.parse(fasta_file, \"fasta\"):\n",
    "        sequences.append(str(record.seq))\n",
    "        main_id = record.id.split('|')[0]\n",
    "        seq_ids.append(main_id)\n",
    "    \n",
    "    print(f\"加载了 {len(sequences)} 条序列\")\n",
    "    \n",
    "    labels_df = pd.read_csv(label_file)\n",
    "    print(f\"标签文件包含 {len(labels_df)} 条记录\")\n",
    "    id_to_label = dict(zip(labels_df['accession'], labels_df['subtype']))\n",
    "    \n",
    "    labels = []\n",
    "    valid_seq_ids = []\n",
    "    valid_sequences = []\n",
    "    \n",
    "    for i, seq_id in enumerate(seq_ids):\n",
    "        if seq_id in id_to_label:\n",
    "            labels.append(id_to_label[seq_id])\n",
    "            valid_seq_ids.append(seq_id)\n",
    "            valid_sequences.append(sequences[i])\n",
    "    \n",
    "    print(f\"成功匹配了 {len(labels)} 条序列的标签\")\n",
    "    \n",
    "    if existing_label_to_idx is None:\n",
    "        unique_labels = sorted(set(labels))\n",
    "        label_to_idx = {label: idx for idx, label in enumerate(unique_labels)}\n",
    "    else:\n",
    "        label_to_idx = existing_label_to_idx\n",
    "    \n",
    "    numeric_labels = [label_to_idx[label] for label in labels]\n",
    "    \n",
    "    return valid_sequences, numeric_labels, valid_seq_ids, label_to_idx\n",
    "\n",
    "def analyze_feature_importance(model, sequence, tokenizer, label_idx, device, window_size=5):\n",
    "    \"\"\"分析序列特征重要性（使用窗口遮蔽分析）\"\"\"\n",
    "    model.eval()\n",
    "    \n",
    "    # 基准预测\n",
    "    with torch.no_grad():\n",
    "        base_encoding = tokenizer(\n",
    "            sequence,\n",
    "            max_length=512,\n",
    "            padding=\"max_length\",\n",
    "            truncation=True,\n",
    "            return_tensors=\"pt\"\n",
    "        ).to(device)\n",
    "        \n",
    "        base_output = model(**base_encoding)\n",
    "        base_prob = torch.softmax(base_output.logits, dim=-1)[0, label_idx].item()\n",
    "    \n",
    "    # 初始化窗口重要性分数数组\n",
    "    window_importance = np.zeros(len(sequence) - window_size + 1)\n",
    "    \n",
    "    # 对每个窗口进行遮蔽分析\n",
    "    for i in tqdm(range(len(sequence) - window_size + 1), desc=\"分析窗口重要性\"):\n",
    "        # 创建遮蔽序列\n",
    "        masked_seq = list(sequence)\n",
    "        for j in range(i, i + window_size):\n",
    "            masked_seq[j] = 'N'\n",
    "        masked_seq = ''.join(masked_seq)\n",
    "        \n",
    "        # 计算遮蔽后的预测概率\n",
    "        with torch.no_grad():\n",
    "            masked_encoding = tokenizer(\n",
    "                masked_seq,\n",
    "                max_length=512,\n",
    "                padding=\"max_length\",\n",
    "                truncation=True,\n",
    "                return_tensors=\"pt\"\n",
    "            ).to(device)\n",
    "            \n",
    "            masked_output = model(**masked_encoding)\n",
    "            masked_prob = torch.softmax(masked_output.logits, dim=-1)[0, label_idx].item()\n",
    "        \n",
    "        # 计算窗口重要性\n",
    "        window_importance[i] = abs(base_prob - masked_prob)\n",
    "    \n",
    "    return window_importance\n",
    "\n",
    "def visualize_importance(sequence, window_importance, seq_id, subtype, output_dir, window_size=5):\n",
    "    \"\"\"可视化窗口重要性分布\"\"\"\n",
    "    # 创建图形，使用物理尺寸而不是像素尺寸\n",
    "    fig = plt.figure(figsize=(30, 10))\n",
    "    \n",
    "    # 创建热图\n",
    "    importance_matrix = window_importance.reshape(1, -1)\n",
    "    sns.heatmap(\n",
    "        importance_matrix,\n",
    "        cmap='YlOrRd',\n",
    "        xticklabels=False,\n",
    "        yticklabels=False,\n",
    "        cbar_kws={'label': 'Window Importance', 'shrink': 0.8},\n",
    "    )\n",
    "    \n",
    "    plt.title(f\"Window Importance Distribution - {seq_id} ({subtype})\")\n",
    "    plt.xlabel(f\"Window Position (size={window_size})\", fontsize=34)\n",
    "    \n",
    "    # 添加位置标记\n",
    "    seq_length = len(sequence) - window_size + 1\n",
    "    step = 50\n",
    "    positions = range(0, seq_length, step)\n",
    "    plt.xticks(positions, positions, fontsize=34, rotation=50)\n",
    "    plt.gca().margins(x=0.05)\n",
    "    \n",
    "    # 添加重要区域标注\n",
    "    threshold = np.percentile(window_importance, 90)\n",
    "    important_regions = np.where(window_importance > threshold)[0]\n",
    "    \n",
    "    if len(important_regions) > 0:\n",
    "        current_start = important_regions[0]\n",
    "        current_end = current_start\n",
    "        \n",
    "        for i in range(1, len(important_regions)):\n",
    "            if important_regions[i] == current_end + 1:\n",
    "                current_end = important_regions[i]\n",
    "            else:\n",
    "                plt.axvspan(current_start, current_end, color='blue', alpha=0.3)\n",
    "                current_start = important_regions[i]\n",
    "                current_end = current_start\n",
    "        \n",
    "        plt.axvspan(current_start, current_end, color='blue', alpha=0.3)\n",
    "    \n",
    "    # 调整布局并保存\n",
    "    plt.tight_layout(pad=2.0)\n",
    "    \n",
    "    # 保存为矢量格式和位图格式\n",
    "    output_file_svg = os.path.join(output_dir, f\"{subtype}_{seq_id}_importance.svg\")\n",
    "    output_file_png = os.path.join(output_dir, f\"{subtype}_{seq_id}_importance.png\")\n",
    "    \n",
    "    # 保存SVG格式（用于后续编辑）\n",
    "    plt.savefig(output_file_svg, format='svg', bbox_inches='tight')\n",
    "    # 保存PNG格式（用于直接查看）\n",
    "    plt.savefig(output_file_png, dpi=800, bbox_inches='tight')\n",
    "    \n",
    "    plt.close()\n",
    "    \n",
    "    return np.argsort(window_importance)[-20:]\n",
    "\n",
    "def analyze_sequences(sequences, labels, seq_ids, model, tokenizer, label_to_idx, output_dir, device):\n",
    "    \"\"\"分析所有序列的特征重要性\"\"\"\n",
    "    os.makedirs(output_dir, exist_ok=True)\n",
    "    subtype_patterns = {}\n",
    "    \n",
    "    for i, (sequence, label, seq_id) in enumerate(zip(sequences, labels, seq_ids)):\n",
    "        subtype = [k for k, v in label_to_idx.items() if v == label][0]\n",
    "        print(f\"\\n分析序列 {i+1}/{len(sequences)}: {seq_id} ({subtype})\")\n",
    "        \n",
    "        try:\n",
    "            window_importance = analyze_feature_importance(model, sequence, tokenizer, label, device)\n",
    "            \n",
    "            if window_importance is not None:\n",
    "                important_windows = visualize_importance(\n",
    "                    sequence, window_importance, seq_id, subtype, output_dir\n",
    "                )\n",
    "                \n",
    "                if subtype not in subtype_patterns:\n",
    "                    subtype_patterns[subtype] = []\n",
    "                \n",
    "                for window_start in important_windows:\n",
    "                    window_seq = sequence[window_start:window_start+5]\n",
    "                    subtype_patterns[subtype].append({\n",
    "                        'window_start': window_start,\n",
    "                        'window_sequence': window_seq,\n",
    "                        'importance': float(window_importance[window_start])\n",
    "                    })\n",
    "            else:\n",
    "                print(f\"跳过序列 {seq_id}：无法计算特征重要性\")\n",
    "                        \n",
    "        except Exception as e:\n",
    "            print(f\"处理序列 {seq_id} 时发生错误: {str(e)}\")\n",
    "            continue\n",
    "    \n",
    "    return subtype_patterns\n",
    "\n",
    "def generate_summary_report(subtype_patterns, output_dir):\n",
    "    \"\"\"生成分析报告\"\"\"\n",
    "    report_file = os.path.join(output_dir, \"feature_importance_summary.txt\")\n",
    "    \n",
    "    with open(report_file, \"w\", encoding=\"utf-8\") as f:\n",
    "        f.write(\"# Window Importance Analysis Summary\\n\\n\")\n",
    "        \n",
    "        for subtype, patterns in subtype_patterns.items():\n",
    "            f.write(f\"## {subtype} Analysis\\n\\n\")\n",
    "            \n",
    "            # 统计重要窗口信息\n",
    "            window_stats = {}\n",
    "            for pattern in patterns:\n",
    "                window_start = pattern['window_start']\n",
    "                if window_start not in window_stats:\n",
    "                    window_stats[window_start] = {\n",
    "                        'count': 0,\n",
    "                        'sequences': {},\n",
    "                        'avg_importance': 0\n",
    "                    }\n",
    "                \n",
    "                window_stats[window_start]['count'] += 1\n",
    "                window_seq = pattern['window_sequence']\n",
    "                if window_seq not in window_stats[window_start]['sequences']:\n",
    "                    window_stats[window_start]['sequences'][window_seq] = 0\n",
    "                window_stats[window_start]['sequences'][window_seq] += 1\n",
    "                window_stats[window_start]['avg_importance'] += pattern['importance']\n",
    "            \n",
    "            # 计算平均值并排序\n",
    "            for window_start in window_stats:\n",
    "                window_stats[window_start]['avg_importance'] /= window_stats[window_start]['count']\n",
    "            \n",
    "            sorted_windows = sorted(\n",
    "                window_stats.items(),\n",
    "                key=lambda x: x[1]['avg_importance'],\n",
    "                reverse=True\n",
    "            )\n",
    "            \n",
    "            f.write(\"Window Start\\tImportance\\tSequence Distribution\\n\")\n",
    "            for window_start, stats in sorted_windows[:30]:\n",
    "                seq_dist = \", \".join([\n",
    "                    f\"{seq}:{cnt}\" for seq, cnt in stats['sequences'].items()\n",
    "                ])\n",
    "                f.write(f\"{window_start}\\t{stats['avg_importance']:.4f}\\t{seq_dist}\\n\")\n",
    "            \n",
    "            f.write(\"\\n\")\n",
    "    \n",
    "    print(f\"已生成汇总报告: {report_file}\")\n",
    "\n",
    "def main():\n",
    "    model_path = \"/root/autodl-tmp/Influenza_BERT/new_class_10/checkpoint-37400\"\n",
    "    test_fasta_file = \"/root/autodl-tmp/data/new_class_10/test_sequences_10.fasta\"\n",
    "    test_label_file = \"/root/autodl-tmp/data/new_class_10/test_labels_10.csv\"\n",
    "    output_dir = \"./feature_importance_results_window_test\"\n",
    "    target_subtypes = ['H5N1',\"H9N2\",\"H7N9\",\"H5N8\",\"H3N2\",\"H13N6\",\"H13N8\"]\n",
    "    \n",
    "    device = torch.device(\"cuda\" if torch.cuda.is_available() else \"cpu\")\n",
    "    print(f\"使用设备: {device}\")\n",
    "    \n",
    "    print(\"加载模型和tokenizer...\")\n",
    "    config = AutoConfig.from_pretrained(model_path, trust_remote_code=True)\n",
    "    model = AutoModelForSequenceClassification.from_pretrained(\n",
    "        model_path,\n",
    "        config=config,\n",
    "        trust_remote_code=True\n",
    "    ).to(device)\n",
    "    tokenizer = AutoTokenizer.from_pretrained(model_path, trust_remote_code=True)\n",
    "    \n",
    "    print(\"加载测试数据...\")\n",
    "    sequences, labels, seq_ids, label_to_idx = load_data(test_fasta_file, test_label_file)\n",
    "    \n",
    "    # 创建字典来存储每个亚型的序列\n",
    "    subtype_sequences = {}\n",
    "    for i, (sequence, label, seq_id) in enumerate(zip(sequences, labels, seq_ids)):\n",
    "        subtype = [k for k, v in label_to_idx.items() if v == label][0]\n",
    "        if subtype in target_subtypes:\n",
    "            if subtype not in subtype_sequences:\n",
    "                subtype_sequences[subtype] = []\n",
    "            subtype_sequences[subtype].append((sequence, label, seq_id))\n",
    "    \n",
    "    test_sequences = []\n",
    "    test_labels = []\n",
    "    test_seq_ids = []\n",
    "    \n",
    "    # 设置随机种子以确保结果可重复\n",
    "    np.random.seed(42)\n",
    "    \n",
    "    for subtype in target_subtypes:\n",
    "        if subtype in subtype_sequences:\n",
    "            available_sequences = subtype_sequences[subtype]\n",
    "            if len(available_sequences) >= 8:\n",
    "                # 随机选择8条序列\n",
    "                selected_indices = np.random.choice(len(available_sequences), 8, replace=False)\n",
    "                for idx in selected_indices:\n",
    "                    sequence, label, seq_id = available_sequences[idx]\n",
    "                    test_sequences.append(sequence)\n",
    "                    test_labels.append(label)\n",
    "                    test_seq_ids.append(seq_id)\n",
    "                    print(f\"随机选择亚型 {subtype} 的序列: {seq_id}\")\n",
    "            else:\n",
    "                print(f\"警告：亚型 {subtype} 的序列数量不足8条（仅有 {len(available_sequences)} 条）\")\n",
    "    \n",
    "    print(\"\\n开始特征重要性分析...\")\n",
    "    model.eval()\n",
    "    subtype_patterns = analyze_sequences(\n",
    "        test_sequences, test_labels, test_seq_ids,\n",
    "        model, tokenizer, label_to_idx,\n",
    "        output_dir, device\n",
    "    )\n",
    "    \n",
    "    generate_summary_report(subtype_patterns, output_dir)\n",
    "    print(\"分析完成！\")\n",
    "\n",
    "if __name__ == \"__main__\":\n",
    "    main()"
   ]
  },
  {
   "cell_type": "code",
   "execution_count": null,
   "id": "dec73f69",
   "metadata": {},
   "outputs": [],
   "source": []
  }
 ],
 "metadata": {
  "kernelspec": {
   "display_name": "base",
   "language": "python",
   "name": "python3"
  },
  "language_info": {
   "codemirror_mode": {
    "name": "ipython",
    "version": 3
   },
   "file_extension": ".py",
   "mimetype": "text/x-python",
   "name": "python",
   "nbconvert_exporter": "python",
   "pygments_lexer": "ipython3",
   "version": "3.12.3"
  }
 },
 "nbformat": 4,
 "nbformat_minor": 5
}
